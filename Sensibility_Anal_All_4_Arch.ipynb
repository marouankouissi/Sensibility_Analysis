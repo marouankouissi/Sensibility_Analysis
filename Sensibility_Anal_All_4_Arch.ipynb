{
 "cells": [
  {
   "cell_type": "code",
   "execution_count": 80,
   "metadata": {},
   "outputs": [],
   "source": [
    "import pandas as pd\n",
    "import numpy as np\n",
    "from scipy.signal import find_peaks\n",
    "import math\n",
    "import statistics\n",
    "import numpy as np\n",
    "import random\n",
    "import matplotlib.pyplot as plt\n",
    "%matplotlib inline "
   ]
  },
  {
   "cell_type": "code",
   "execution_count": 81,
   "metadata": {},
   "outputs": [],
   "source": [
    "from math import log10\n",
    "from math import log2\n",
    "from math import pow"
   ]
  },
  {
   "cell_type": "code",
   "execution_count": 82,
   "metadata": {},
   "outputs": [],
   "source": [
    "calib_det1 = pd.read_csv('/Volumes/MAROUAN/MZI/Cal/MZIDie_MZI_cal_det1.txt', sep=\" \", header=None)\n",
    "calib_det2 = pd.read_csv('/Volumes/MAROUAN/MZI/Cal/MZIDie_MZI_cal_det2.txt', sep=\" \", header=None)\n",
    "calib_det3 = pd.read_csv('/Volumes/MAROUAN/MZI/Cal/MZIDie_MZI_cal_det1.txt', sep=\" \", header=None)"
   ]
  },
  {
   "cell_type": "code",
   "execution_count": 83,
   "metadata": {
    "jupyter": {
     "source_hidden": true
    }
   },
   "outputs": [],
   "source": [
    "bias = pd.read_csv('/Volumes/MAROUAN/MZI/MZI_PIN2_GSSG/Die_1_Subdie_10_MZI_bias.txt', sep=\" \", header =None)\n",
    "bias_inverse = bias*(-1)"
   ]
  },
  {
   "cell_type": "code",
   "execution_count": 84,
   "metadata": {
    "jupyter": {
     "source_hidden": true
    }
   },
   "outputs": [],
   "source": [
    "# Benoit calculus\n",
    "b_calculs = pd.read_csv(\"/Users/marouankouissi/Downloads/Phases_P05.txt\")\n",
    "Phi_left = b_calculs.iloc[:,1].tolist()\n",
    "Phi_right = b_calculs.iloc[:,2].tolist()"
   ]
  },
  {
   "cell_type": "code",
   "execution_count": 85,
   "metadata": {
    "jupyter": {
     "source_hidden": true
    }
   },
   "outputs": [],
   "source": [
    "# Function to find the first and second minimas\n",
    "def Print2Smallest(arr, n): \n",
    "    MAX = 100000\n",
    "    firstmin = MAX\n",
    "    secmin = MAX\n",
    "  \n",
    "    for i in range(0, n): \n",
    "          \n",
    "        if arr[i] < firstmin: \n",
    "            secmin = firstmin \n",
    "            firstmin = arr[i] \n",
    "\n",
    "        elif arr[i] < secmin: \n",
    "            secmin = arr[i] \n",
    "    return firstmin, secmin"
   ]
  },
  {
   "cell_type": "code",
   "execution_count": 86,
   "metadata": {
    "jupyter": {
     "source_hidden": true
    }
   },
   "outputs": [],
   "source": [
    "MAX = 100000\n",
    "  \n",
    "def Print3Smallest(arr, n): \n",
    "    firstmin = MAX\n",
    "    secmin = MAX\n",
    "    thirdmin = MAX\n",
    "  \n",
    "    for i in range(0, n): \n",
    "          \n",
    "        # Check if current element \n",
    "        # is less than firstmin,  \n",
    "        # then update first,second \n",
    "        # and third \n",
    "  \n",
    "        if arr[i] < firstmin: \n",
    "            thirdmin = secmin \n",
    "            secmin = firstmin \n",
    "            firstmin = arr[i] \n",
    "  \n",
    "        # Check if current element is \n",
    "        # less than secmin then update \n",
    "        # second and third \n",
    "        elif arr[i] < secmin: \n",
    "            thirdmin = secmin \n",
    "            secmin = arr[i] \n",
    "  \n",
    "        # Check if current element is \n",
    "        # less than,then upadte third \n",
    "        elif arr[i] < thirdmin: \n",
    "            thirdmin = arr[i] \n",
    "    return firstmin, secmin, thirdmin"
   ]
  },
  {
   "cell_type": "code",
   "execution_count": 87,
   "metadata": {
    "jupyter": {
     "source_hidden": true
    }
   },
   "outputs": [],
   "source": [
    "# Function to find peaks \n",
    "def FindPeaks (data):\n",
    "    x = [i*(-1) for i in data]\n",
    "    _, peaks  = find_peaks(x, height=0)\n",
    "    P = list(peaks.values())\n",
    "    #print(P)\n",
    "    minimas = [(-1)*i for i in P]\n",
    "    #print(minimas)\n",
    "    return Print3Smallest(minimas[0],len(minimas[0]))"
   ]
  },
  {
   "cell_type": "code",
   "execution_count": 88,
   "metadata": {
    "jupyter": {
     "source_hidden": true
    }
   },
   "outputs": [],
   "source": [
    "# Function to find peaks \n",
    "def FindPeaks_1 (data):\n",
    "    x = [i*(-1) for i in data]\n",
    "    _, peaks  = find_peaks(x, height=0)\n",
    "    P = list(peaks.values())\n",
    "    #print(P)\n",
    "    minimas = [(-1)*i for i in P]\n",
    "    #print(minimas)\n",
    "    return Print2Smallest(minimas[0],len(minimas[0]))"
   ]
  },
  {
   "cell_type": "code",
   "execution_count": 89,
   "metadata": {
    "jupyter": {
     "source_hidden": true
    }
   },
   "outputs": [],
   "source": [
    "bias_2pi = []\n",
    "bias_sigma = []\n",
    "num_die = []\n",
    "sigma = []\n",
    "sigma_1 = []\n",
    "sigma_2 = []\n",
    "sigma_3 = []\n",
    "Xtalk = []\n",
    "Xtalk_bis = []\n",
    "Loss = []\n",
    "Loss_central = []\n",
    "Data_list = []\n",
    "Data_prime_list = []\n",
    "\n",
    "Phi_left_bis = []\n",
    "Phi_right_bis = []\n",
    "\n",
    "for k in range(1,49):\n",
    "    #if k in {7,9,11,13,14}:\n",
    "        #continue\n",
    "    #if k in {4,5,20,48}:\n",
    "        #continue\n",
    "    #if k in {6,46} :\n",
    "        #continue\n",
    "        \n",
    "    if k==6:\n",
    "        loop = pd.read_csv('/Volumes/MAROUAN/MZI/Loopback_GSSG/Die_{}_Subdie_10_MZI_Loopback.txt'.format(k), sep=\" \", header=None)\n",
    "        # wave_max = loop.iloc[1::,::][loop.iloc[1::,::][1]==loop.iloc[1::,::][1].max()].index[0]\n",
    "        loop_back_trasm = [loop[1][k]-calib_det1[1][k] for k in range(1,1059)]\n",
    "        wave_max = loop_back_trasm.index(max(loop_back_trasm))\n",
    "\n",
    "\n",
    "        loop_bis = loop.iloc[wave_max,1]\n",
    "    \n",
    "        ms1 = pd.read_csv('/Volumes/MAROUAN/MZI/MZI_PIN1_GSSG/Die_{}_Subdie_10_MZI_meas.txt'.format(k), sep=\" \", header=None)\n",
    "        ms2 = pd.read_csv('/Volumes/MAROUAN/MZI/MZI_PIN2_GSSG/Die_{}_Subdie_10_MZI_meas.txt'.format(k), sep=\" \", header=None)\n",
    "    \n",
    "        data_1 = (ms1.iloc[::,1::4].iloc[wave_max,::][::-1]-calib_det1.loc[wave_max,1]).values.tolist()\n",
    "        data_2 = (ms2.iloc[::,1::4].iloc[wave_max,::]-calib_det1.loc[wave_max,1]).values.tolist()\n",
    "        data = data_1+data_2\n",
    "\n",
    "        data_1_prime = (ms1.iloc[::,2::4].iloc[wave_max,::][::-1]-calib_det2.loc[wave_max,1]).values.tolist()\n",
    "        data_2_prime = (ms2.iloc[::,2::4].iloc[wave_max,::]-calib_det2.loc[wave_max,1]).values.tolist()\n",
    "        data_prime = data_1_prime+data_2_prime\n",
    "    \n",
    "        bias_current_1 = bias[0][::-1].values.tolist()\n",
    "        bias_current_2 = bias_inverse[0].values.tolist()\n",
    "        bias_current = bias_current_1 + bias_current_2\n",
    "    \n",
    "        Data_list.append(data)\n",
    "        Data_prime_list.append(data_prime)\n",
    "    \n",
    "        x1, x2, x3 = FindPeaks(data)\n",
    "        #print(x1, x2, x3)\n",
    "        v1 = abs(bias_current[data.index(x1)]-bias_current[data.index(x2)])\n",
    "        v1_1 = abs(bias_current[data.index(x1)]-bias_current[data.index(x3)])\n",
    "\n",
    "    \n",
    "        y1, y2 = FindPeaks_1(data_prime)\n",
    "        #print(x1, x2)\n",
    "        u1 = abs(bias_current[data.index(x1)]-bias_current[data_prime.index(y1)])\n",
    "        u1_1 = abs(bias_current[data.index(x1)]-bias_current[data_prime.index(y2)])\n",
    "\n",
    "    \n",
    "        v2 = abs(bias_current[data.index(x1)])\n",
    "        v2 = (bias_current[data.index(x1)])\n",
    "        v3 = (v2*(2*math.pi))/v1\n",
    "        v3_1 = (v2*(2*math.pi))/v1_1\n",
    "    \n",
    "        u2 = (v2*(math.pi))/u1\n",
    "        u3 = (v2*(math.pi))/u1_1\n",
    "    \n",
    "    \n",
    "        #x1, x2, x3 = FindPeaks(data_prime)\n",
    "        #print(x1, x2, x3)\n",
    "    \n",
    "        #y1, y2 = FindPeaks_1(data_prime)\n",
    "        #print(y1, y2)\n",
    "    \n",
    "    \n",
    "        #We calculate Xtalk by identifying first the min in orange curbe (see below),\n",
    "        # then, the value in blue curve\n",
    "        xt = data_prime[data.index(x1)] - data[data.index(x1)]\n",
    "        xt_bis = data_prime[data.index(x1)] - data[data.index(x1)]\n",
    "        #loss = loop_bis - data[data_prime.index(y1)]\n",
    "        loss = loop_bis - max(data)\n",
    "        loss_central = loop_bis - max(data_prime)\n",
    "    \n",
    "        num_die.append(k)\n",
    "        bias_2pi.append(v1)\n",
    "        bias_sigma.append(v2)\n",
    "        sigma.append(v3)\n",
    "        sigma_1.append(v3_1)\n",
    "        sigma_2.append(u2)\n",
    "        sigma_3.append(u3)\n",
    "        Xtalk.append(xt)\n",
    "        Xtalk_bis.append(xt_bis)\n",
    "        Loss.append(loss)\n",
    "        Loss_central.append(loss_central)\n",
    "        Phi_left_bis.append(Phi_left[k-1])\n",
    "        Phi_right_bis.append(Phi_right[k-1])\n",
    "    \n",
    "    if k in {6,7,11,20}:\n",
    "        continue\n",
    "    \n",
    "    loop = pd.read_csv('/Volumes/MAROUAN/MZI/Loopback_GSSG/Die_{}_Subdie_10_MZI_Loopback.txt'.format(k), sep=\" \", header=None)\n",
    "    # wave_max = loop.iloc[1::,::][loop.iloc[1::,::][1]==loop.iloc[1::,::][1].max()].index[0]\n",
    "    loop_back_trasm = [loop[1][k]-calib_det1[1][k] for k in range(1,1059)]\n",
    "    wave_max = loop_back_trasm.index(max(loop_back_trasm))\n",
    "\n",
    "\n",
    "    loop_bis = loop.iloc[wave_max,1]\n",
    "    \n",
    "    ms1 = pd.read_csv('/Volumes/MAROUAN/MZI/MZI_PIN1_GSSG/Die_{}_Subdie_10_MZI_meas.txt'.format(k), sep=\" \", header=None)\n",
    "    ms2 = pd.read_csv('/Volumes/MAROUAN/MZI/MZI_PIN2_GSSG/Die_{}_Subdie_10_MZI_meas.txt'.format(k), sep=\" \", header=None)\n",
    "    \n",
    "    data_1 = (ms1.iloc[::,1::4].iloc[wave_max,::][::-1]-calib_det1.loc[wave_max,1]).values.tolist()\n",
    "    data_2 = (ms2.iloc[::,1::4].iloc[wave_max,::]-calib_det1.loc[wave_max,1]).values.tolist()\n",
    "    data = data_1+data_2\n",
    "\n",
    "    data_1_prime = (ms1.iloc[::,2::4].iloc[wave_max,::][::-1]-calib_det2.loc[wave_max,1]).values.tolist()\n",
    "    data_2_prime = (ms2.iloc[::,2::4].iloc[wave_max,::]-calib_det2.loc[wave_max,1]).values.tolist()\n",
    "    data_prime = data_1_prime+data_2_prime\n",
    "    \n",
    "    bias_current_1 = bias[0][::-1].values.tolist()\n",
    "    bias_current_2 = bias_inverse[0].values.tolist()\n",
    "    bias_current = bias_current_1 + bias_current_2\n",
    "    \n",
    "    Data_list.append(data)\n",
    "    Data_prime_list.append(data_prime)\n",
    "    \n",
    "    x1, x2, x3 = FindPeaks(data)\n",
    "    #print(x1, x2, x3)\n",
    "    v1 = abs(bias_current[data.index(x1)]-bias_current[data.index(x2)])\n",
    "    v1_1 = abs(bias_current[data.index(x1)]-bias_current[data.index(x3)])\n",
    "\n",
    "    \n",
    "    y1, y2 = FindPeaks_1(data_prime)\n",
    "    #print(x1, x2)\n",
    "    u1 = abs(bias_current[data.index(x1)]-bias_current[data_prime.index(y1)])\n",
    "    u1_1 = abs(bias_current[data.index(x1)]-bias_current[data_prime.index(y2)])\n",
    "\n",
    "    \n",
    "    v2 = abs(bias_current[data.index(x1)])\n",
    "    v2 = (bias_current[data.index(x1)])\n",
    "    v3 = (v2*(2*math.pi))/v1\n",
    "    v3_1 = (v2*(2*math.pi))/v1_1\n",
    "    \n",
    "    u2 = (v2*(math.pi))/u1\n",
    "    u3 = (v2*(math.pi))/u1_1\n",
    "    \n",
    "    \n",
    "    #x1, x2, x3 = FindPeaks(data_prime)\n",
    "    #print(x1, x2, x3)\n",
    "    \n",
    "    #y1, y2 = FindPeaks_1(data_prime)\n",
    "    #print(y1, y2)\n",
    "    \n",
    "    \n",
    "    #We calculate Xtalk by identifying first the min in orange curbe (see below),\n",
    "    # then, the value in blue curve\n",
    "    xt = data[data_prime.index(y1)] - data_prime[data_prime.index(y1)]\n",
    "    xt_bis = data_prime[data.index(x1)] - data[data.index(x1)]\n",
    "    #loss = loop_bis - data[data_prime.index(y1)]\n",
    "    loss = loop_bis - max(data)\n",
    "    loss_central = loop_bis - max(data_prime)\n",
    "    \n",
    "    num_die.append(k)\n",
    "    bias_2pi.append(v1)\n",
    "    bias_sigma.append(v2)\n",
    "    sigma.append(v3)\n",
    "    sigma_1.append(v3_1)\n",
    "    sigma_2.append(u2)\n",
    "    sigma_3.append(u3)\n",
    "    Xtalk.append(xt)\n",
    "    Xtalk_bis.append(xt_bis)\n",
    "    Loss.append(loss)\n",
    "    Loss_central.append(loss_central)\n",
    "    Phi_left_bis.append(Phi_left[k-1])\n",
    "    Phi_right_bis.append(Phi_right[k-1])"
   ]
  },
  {
   "cell_type": "code",
   "execution_count": 90,
   "metadata": {},
   "outputs": [],
   "source": [
    "#Xtalk values linearization\n",
    "Xtalk_linear = []\n",
    "for k in Xtalk:\n",
    "    val = pow(10,-k/10)\n",
    "    Xtalk_linear.append(val)"
   ]
  },
  {
   "cell_type": "code",
   "execution_count": 91,
   "metadata": {},
   "outputs": [
    {
     "name": "stdout",
     "output_type": "stream",
     "text": [
      "20.80394140639509 31.328305850905068\n",
      "0.000736494342196601 0.008310092526764908\n"
     ]
    }
   ],
   "source": [
    "print(min(Xtalk), max(Xtalk))\n",
    "print(min(Xtalk_linear), max(Xtalk_linear))"
   ]
  },
  {
   "cell_type": "code",
   "execution_count": 92,
   "metadata": {},
   "outputs": [
    {
     "name": "stdout",
     "output_type": "stream",
     "text": [
      "2.285705244224845e-06 0.004157286205343398 0.0015289385503297706\n"
     ]
    }
   ],
   "source": [
    "Xtalk_var = statistics.pvariance(Xtalk_linear)\n",
    "Xtalk_mean = statistics.mean(Xtalk_linear)\n",
    "Xtalk_stdev = statistics.stdev(Xtalk_linear)\n",
    "print(Xtalk_var, Xtalk_mean, Xtalk_stdev)"
   ]
  },
  {
   "cell_type": "markdown",
   "metadata": {},
   "source": [
    "<h2 id=\"importing_libraries\">Dilated Benes</h2>"
   ]
  },
  {
   "cell_type": "code",
   "execution_count": 93,
   "metadata": {},
   "outputs": [],
   "source": [
    "def variance_SCR(N):\n",
    "    l_x = 10**(-0.1/10)\n",
    "    m_x = 10**(-42./10)\n",
    "    #m = max(Xtalk_linear)\n",
    "    m = Xtalk_mean \n",
    "    k = log2(N)\n",
    "    frac = (l_x**(2*(2*N-k-3)))/((k*(2*k-1)*m*m+2*(N-2)*m_x)**4)\n",
    "    factor = frac*((2*k-1)**2)*(m**2)*(2*k)\n",
    "    \n",
    "    return factor*Xtalk_var"
   ]
  },
  {
   "cell_type": "code",
   "execution_count": 94,
   "metadata": {},
   "outputs": [],
   "source": [
    "Var_SCR_list = []\n",
    "for k in [4, 8, 16, 32]:\n",
    "    Var_SCR_list.append(variance_SCR(k))"
   ]
  },
  {
   "cell_type": "code",
   "execution_count": 95,
   "metadata": {},
   "outputs": [
    {
     "data": {
      "text/plain": [
       "[77045.42173098694, 3503.3420956990362, 190.86607418275574, 5.59680726269299]"
      ]
     },
     "execution_count": 95,
     "metadata": {},
     "output_type": "execute_result"
    }
   ],
   "source": [
    "Var_SCR_list"
   ]
  },
  {
   "cell_type": "code",
   "execution_count": 96,
   "metadata": {},
   "outputs": [],
   "source": [
    "def variance_SCR_simu(N):\n",
    "    k = log2(N)\n",
    "    l_x = 10**(-0.1/10)\n",
    "    m_x = 10**(-42./10)\n",
    "    \n",
    "    Loss_X = l_x**(2*N-k-3)\n",
    "    Xtalk_X = 2*(N-2)*m_x\n",
    "    Xtalk_MZI = 0\n",
    "    \n",
    "    l = int(2*k)\n",
    "    MZI_perf = random.sample(Xtalk_linear, l)\n",
    "    for i in range(0,l):\n",
    "        for j in range(0,l):\n",
    "            if j==i:\n",
    "                continue\n",
    "            Xtalk_MZI = Xtalk_MZI + (1/2)*MZI_perf[i]*MZI_perf[j]\n",
    "\n",
    "    \n",
    "    return Loss_X/(Xtalk_MZI+Xtalk_X)"
   ]
  },
  {
   "cell_type": "code",
   "execution_count": 97,
   "metadata": {},
   "outputs": [],
   "source": [
    "Var_SCR_list_ = []\n",
    "for k in [4, 8, 16, 32]:\n",
    "    times = 10000\n",
    "    SCR_values_simu = []\n",
    "    for i in range(1,times+1):\n",
    "        SCR_values_simu.append(variance_SCR_simu(k))\n",
    "    Var_SCR_list_.append(statistics.pvariance(SCR_values_simu))"
   ]
  },
  {
   "cell_type": "code",
   "execution_count": 98,
   "metadata": {},
   "outputs": [
    {
     "data": {
      "text/plain": [
       "[71336.7664831035, 3145.4944613032744, 159.45275333058504, 4.525302713661882]"
      ]
     },
     "execution_count": 98,
     "metadata": {},
     "output_type": "execute_result"
    }
   ],
   "source": [
    "Var_SCR_list_"
   ]
  },
  {
   "cell_type": "code",
   "execution_count": 150,
   "metadata": {},
   "outputs": [
    {
     "data": {
      "image/png": "[encoded data removed]",
      "text/plain": [
       "<Figure size 648x432 with 1 Axes>"
      ]
     },
     "metadata": {
      "needs_background": "light"
     },
     "output_type": "display_data"
    }
   ],
   "source": [
    "plt.figure(figsize=(9,6))\n",
    "plt.grid(True)\n",
    "plt.yscale(\"log\")\n",
    "plt.plot([4, 8, 16, 32], Var_SCR_list, '--' , c=\"k\", label = \"$\\hat{SCR}$ Variance\")\n",
    "plt.scatter([4, 8, 16, 32], Var_SCR_list, c=\"k\")\n",
    "plt.plot([4, 8, 16, 32], Var_SCR_list_, '--' , c=\"grey\", label = \"$\\hat{SCR}$ Variance simulation\")\n",
    "plt.scatter([4, 8, 16, 32], Var_SCR_list_, c=\"grey\")\n",
    "plt.xlabel(\"N Inputs/Outputs\")\n",
    "plt.ylabel(\"Variance values (Log scaele)\")\n",
    "plt.legend(loc='best')\n",
    "plt.savefig('/Users/marouankouissi/Desktop/AS_graphs/V_Simu_DB.png')"
   ]
  },
  {
   "cell_type": "code",
   "execution_count": 100,
   "metadata": {},
   "outputs": [
    {
     "name": "stdout",
     "output_type": "stream",
     "text": [
      "60.42718079247944 4.525302713661882\n"
     ]
    }
   ],
   "source": [
    "print(statistics.mean(SCR_values_simu), statistics.pvariance(SCR_values_simu))"
   ]
  },
  {
   "cell_type": "code",
   "execution_count": 101,
   "metadata": {},
   "outputs": [],
   "source": [
    "def SCR_DB(N):\n",
    "    k = log2(N)\n",
    "    l_x = 10**(-0.1/10)\n",
    "    m_x = 10**(-42./10)\n",
    "    #m_mzi = 10**(-max(Xtalk)/10) \n",
    "    m_mzi = Xtalk_mean\n",
    "    \n",
    "    Loss_X = l_x**(2*N-k-3)\n",
    "    Xtalk_MZI = k*(2*k-1)*m_mzi*m_mzi\n",
    "    Xtalk_X = 2*(N-2)*m_x\n",
    "    \n",
    "    return Loss_X/(Xtalk_MZI+Xtalk_X)"
   ]
  },
  {
   "cell_type": "code",
   "execution_count": 102,
   "metadata": {},
   "outputs": [],
   "source": [
    "SCR_values_list = []\n",
    "for k in [4, 8, 16, 32]:\n",
    "    SCR_values_list.append(SCR_DB(k))"
   ]
  },
  {
   "cell_type": "code",
   "execution_count": 103,
   "metadata": {},
   "outputs": [
    {
     "data": {
      "text/plain": [
       "[2620.9037106691735, 781.5158741431417, 249.8622521288912, 60.35368819287444]"
      ]
     },
     "execution_count": 103,
     "metadata": {},
     "output_type": "execute_result"
    }
   ],
   "source": [
    "SCR_values_list"
   ]
  },
  {
   "cell_type": "code",
   "execution_count": 104,
   "metadata": {},
   "outputs": [],
   "source": [
    "# standar deviation\n",
    "SCR_std_dev_list = [3*math.sqrt(k) for k in Var_SCR_list]"
   ]
  },
  {
   "cell_type": "code",
   "execution_count": 105,
   "metadata": {},
   "outputs": [
    {
     "data": {
      "text/plain": [
       "[832.711712166271, 177.56711086598028, 41.44628653624835, 7.097271684544484]"
      ]
     },
     "execution_count": 105,
     "metadata": {},
     "output_type": "execute_result"
    }
   ],
   "source": [
    "SCR_std_dev_list"
   ]
  },
  {
   "cell_type": "code",
   "execution_count": 151,
   "metadata": {},
   "outputs": [
    {
     "data": {
      "image/png": "[encoded data removed]",
      "text/plain": [
       "<Figure size 648x432 with 1 Axes>"
      ]
     },
     "metadata": {
      "needs_background": "light"
     },
     "output_type": "display_data"
    }
   ],
   "source": [
    "plt.figure(figsize = (9,6))\n",
    "plt.grid(True)\n",
    "#plt.yscale(\"log\")\n",
    "plt.plot([4, 8, 16, 32], SCR_values_list, '--', c = 'k', label = \"$\\hat{SCR}$ mean value\")\n",
    "plt.scatter([4, 8, 16, 32], SCR_values_list, c = 'k')\n",
    "plt.fill_between([4, 8, 16, 32], [k+q for k,q in zip(SCR_values_list,SCR_std_dev_list)], [k-q for k,q in zip(SCR_values_list,SCR_std_dev_list)],color='#888888', alpha=0.5, label = \"$+/- 3\\sigma $\")\n",
    "#plt.annotate(\"$+3\\sigma$\", xy=(5.5,1999))\n",
    "#plt.annotate(\"$-3\\sigma$\", xy=(5,1300))\n",
    "plt.legend(loc=\"best\")\n",
    "plt.xlabel(\"N Inputs/Outputs\")\n",
    "plt.ylabel(\"$S\\hat{C}R$\")\n",
    "plt.savefig('/Users/marouankouissi/Desktop/AS_graphs/mean_std_dev_DB.png')\n"
   ]
  },
  {
   "cell_type": "markdown",
   "metadata": {},
   "source": [
    " <h2 id=\"importing_libraries\">Benes</h2>"
   ]
  },
  {
   "cell_type": "code",
   "execution_count": 107,
   "metadata": {},
   "outputs": [],
   "source": [
    "def variance_SCR_Benes(N):\n",
    "    l_x = 10**(-0.1/10)\n",
    "    m_x = 10**(-42./10)\n",
    "    #m = max(Xtalk_linear)\n",
    "    m = Xtalk_mean \n",
    "    k = log2(N)\n",
    "    frac_1 = (l_x**(2*(N-k-1)))/(((2*k-1)*m+(2*k*k-3*k+1)*m*m+2*(N-k-1)*m_x)**4)\n",
    "    factor_1 = frac_1*(2*k-1)\n",
    "    \n",
    "    frac_2 = (l_x**(2*(N-k-1)))/(((2*k-1)*m+(2*k*k-3*k+1)*m*m+2*(N-k-1)*m_x)**4)\n",
    "    factor_2 = frac_2*(2*k-1)*((2*k-2)**2)*m*m\n",
    "    #print(factor_2)\n",
    "    \n",
    "    factor = factor_1 + factor_2\n",
    "    return factor*Xtalk_var"
   ]
  },
  {
   "cell_type": "code",
   "execution_count": 108,
   "metadata": {},
   "outputs": [],
   "source": [
    "Var_SCR_Benes_list = []\n",
    "for k in [4, 8, 16, 32]:\n",
    "    Var_SCR_Benes_list.append(variance_SCR_Benes(k))"
   ]
  },
  {
   "cell_type": "code",
   "execution_count": 109,
   "metadata": {},
   "outputs": [
    {
     "data": {
      "text/plain": [
       "[255.75447806938166, 44.79870583825021, 10.647609325355715, 2.1338035887025564]"
      ]
     },
     "execution_count": 109,
     "metadata": {},
     "output_type": "execute_result"
    }
   ],
   "source": [
    "Var_SCR_Benes_list"
   ]
  },
  {
   "cell_type": "code",
   "execution_count": 110,
   "metadata": {},
   "outputs": [],
   "source": [
    "def variance_SCR_Benes_bis(N):\n",
    "    l_x = 10**(-0.1/10)\n",
    "    m_x = 10**(-42./10)\n",
    "    #m = max(Xtalk_linear)\n",
    "    m = Xtalk_mean \n",
    "    k = log2(N)\n",
    "    frac_1 = (l_x**(2*(N-k-1)))/(((2*k-1)*m+(2*k*k-3*k+1)*m*m+2*(N-k-1)*m_x)**4)\n",
    "    factor_1 = frac_1*(2*k-1)\n",
    "    \n",
    "    frac_2 = (l_x**(2*(N-k-1)))/(((2*k-1)*m+(2*k*k-3*k+1)*m*m+2*(N-k-1)*m_x)**4)\n",
    "    factor_2 = frac_2*(2*k-1)*((2*k-2)**2)*m*m\n",
    "    \n",
    "    frac_3 = (l_x**(2*(N-k-1)))/(((2*k-1)*m+(2*k*k-3*k+1)*m*m+2*(N-k-1)*m_x)**4)\n",
    "    factor_3 = frac_3*2*m*(2*k-2)*(2*k-1)\n",
    "    \n",
    "    factor = factor_1 + factor_2 + factor_3\n",
    "    return factor*Xtalk_var"
   ]
  },
  {
   "cell_type": "code",
   "execution_count": 111,
   "metadata": {},
   "outputs": [],
   "source": [
    "Var_SCR_Benes_list_bis = []\n",
    "for k in [4, 8, 16, 32]:\n",
    "    Var_SCR_Benes_list_bis.append(variance_SCR_Benes_bis(k))"
   ]
  },
  {
   "cell_type": "code",
   "execution_count": 112,
   "metadata": {},
   "outputs": [
    {
     "data": {
      "text/plain": [
       "[260.0071623268577, 46.28822227895521, 11.17846094771831, 2.275580083348671]"
      ]
     },
     "execution_count": 112,
     "metadata": {},
     "output_type": "execute_result"
    }
   ],
   "source": [
    "Var_SCR_Benes_list_bis"
   ]
  },
  {
   "cell_type": "code",
   "execution_count": 113,
   "metadata": {},
   "outputs": [],
   "source": [
    "ancient_results = [255.7367984437824, 44.78632114594706, 10.640988618975518, 2.1314459668408197]"
   ]
  },
  {
   "cell_type": "code",
   "execution_count": 114,
   "metadata": {},
   "outputs": [],
   "source": [
    "def variance_SCR_Benes_simu(N):\n",
    "    k = log2(N)\n",
    "    l_x = 10**(-0.1/10)\n",
    "    m_x = 10**(-42./10)\n",
    "    m = Xtalk_mean\n",
    "    \n",
    "    Loss_X = l_x**(N-k-1)\n",
    "    Xtalk_X = 2*(N-k-1)*m_x\n",
    "    #Xtalk_MZI = (2*k*k-3*k+1)*m*m\n",
    "    Xtalk_MZI = 0\n",
    "    \n",
    "    l = int(2*k-1)\n",
    "    MZI_perf = random.sample(Xtalk_linear, l)\n",
    "    \n",
    "    for i in range(0,l):\n",
    "        Xtalk_MZI = Xtalk_MZI + MZI_perf[i]\n",
    "\n",
    "    for i in range(0,l):\n",
    "        for j in range(0,l):\n",
    "            if j==i:\n",
    "                continue\n",
    "            Xtalk_MZI = Xtalk_MZI + (1/2)*MZI_perf[i]*MZI_perf[j]\n",
    "            \n",
    "            \n",
    "    return Loss_X/(Xtalk_MZI+Xtalk_X)"
   ]
  },
  {
   "cell_type": "code",
   "execution_count": 115,
   "metadata": {},
   "outputs": [],
   "source": [
    "Var_SCR_Benes_list_ = []\n",
    "for k in [4, 8, 16, 32]:\n",
    "    times = 10000\n",
    "    SCR_values_simu = []\n",
    "    for i in range(1,times+1):\n",
    "        SCR_values_simu.append(variance_SCR_Benes_simu(k))\n",
    "    Var_SCR_Benes_list_.append(statistics.pvariance(SCR_values_simu))"
   ]
  },
  {
   "cell_type": "code",
   "execution_count": 116,
   "metadata": {},
   "outputs": [
    {
     "data": {
      "text/plain": [
       "[378.7824115029301, 52.09241595942304, 11.244301701220119, 2.0165390282521694]"
      ]
     },
     "execution_count": 116,
     "metadata": {},
     "output_type": "execute_result"
    }
   ],
   "source": [
    "Var_SCR_Benes_list_"
   ]
  },
  {
   "cell_type": "code",
   "execution_count": 152,
   "metadata": {},
   "outputs": [
    {
     "data": {
      "image/png": "[encoded data removed]",
      "text/plain": [
       "<Figure size 648x432 with 1 Axes>"
      ]
     },
     "metadata": {
      "needs_background": "light"
     },
     "output_type": "display_data"
    }
   ],
   "source": [
    "plt.figure(figsize=(9,6))\n",
    "plt.grid(True)\n",
    "plt.yscale(\"log\")\n",
    "plt.plot([4, 8, 16, 32], Var_SCR_Benes_list_bis, '--' , c=\"k\", label = \"$\\hat{SCR}$ Variance\")\n",
    "plt.scatter([4, 8, 16, 32], Var_SCR_Benes_list_bis, c=\"k\")\n",
    "plt.plot([4, 8, 16, 32], Var_SCR_Benes_list_, '--' , c=\"grey\", label = \"$\\hat{SCR}$ Variance simulation\")\n",
    "plt.scatter([4, 8, 16, 32], Var_SCR_Benes_list_, c=\"grey\")\n",
    "plt.xlabel(\"N Inputs/Outputs\")\n",
    "plt.ylabel(\"Variance values (Log scaele)\")\n",
    "plt.legend(loc='best')\n",
    "plt.savefig('/Users/marouankouissi/Desktop/AS_graphs/V_Simu_B.png')"
   ]
  },
  {
   "cell_type": "code",
   "execution_count": 118,
   "metadata": {},
   "outputs": [],
   "source": [
    "def SCR_B(N):\n",
    "    k = log2(N)\n",
    "    l_x = 10**(-0.1/10)\n",
    "    m_x = 10**(-42./10)\n",
    "    #m_mzi = 10**(-max(Xtalk)/10) \n",
    "    m_mzi = Xtalk_mean\n",
    "    \n",
    "    Loss_X = l_x**(N-k-1)\n",
    "    Xtalk_MZI = (2*k-1)*m_mzi + (2*k*k-3*k+1)*m_mzi*m_mzi\n",
    "    Xtalk_X = 2*(N-k-1)*m_x\n",
    "    \n",
    "    return Loss_X/(Xtalk_MZI+Xtalk_X)"
   ]
  },
  {
   "cell_type": "code",
   "execution_count": 119,
   "metadata": {},
   "outputs": [],
   "source": [
    "SCR_values_Benes_list = []\n",
    "for k in [4, 8, 16, 32]:\n",
    "    SCR_values_Benes_list.append(SCR_B(k))"
   ]
  },
  {
   "cell_type": "code",
   "execution_count": 120,
   "metadata": {},
   "outputs": [],
   "source": [
    "def SCR_B_opt(N):\n",
    "    k = log2(N)\n",
    "    l_x = 10**(-0.1/10)\n",
    "    m_x = 10**(-42./10)\n",
    "    m_mzi = 10**(-max(Xtalk)/10) \n",
    "    #m_mzi = Xtalk_mean\n",
    "    \n",
    "    Loss_X = l_x**(N-k-1)\n",
    "    Xtalk_MZI = (2*k-1)*m_mzi + (2*k*k-3*k+1)*m_mzi*m_mzi\n",
    "    Xtalk_X = 2*(N-k-1)*m_x\n",
    "    \n",
    "    return Loss_X/(Xtalk_MZI+Xtalk_X)"
   ]
  },
  {
   "cell_type": "code",
   "execution_count": 121,
   "metadata": {},
   "outputs": [],
   "source": [
    "SCR_values_Benes_list_opt = []\n",
    "for k in [4, 8, 16, 32]:\n",
    "    SCR_values_Benes_list_opt.append(SCR_B_opt(k))"
   ]
  },
  {
   "cell_type": "code",
   "execution_count": 122,
   "metadata": {},
   "outputs": [],
   "source": [
    "# standar deviation Benes\n",
    "SCR_std_dev_Benes_list = [3*math.sqrt(k) for k in Var_SCR_Benes_list_bis]"
   ]
  },
  {
   "cell_type": "code",
   "execution_count": 153,
   "metadata": {},
   "outputs": [
    {
     "data": {
      "image/png": "[encoded data removed]",
      "text/plain": [
       "<Figure size 648x432 with 1 Axes>"
      ]
     },
     "metadata": {
      "needs_background": "light"
     },
     "output_type": "display_data"
    }
   ],
   "source": [
    "plt.figure(figsize = (9,6))\n",
    "plt.grid(True)\n",
    "#plt.yscale(\"log\")\n",
    "plt.plot([4, 8, 16, 32], SCR_values_Benes_list, '--', c = 'k', label = \"$\\hat{SCR}$ mean value\")\n",
    "plt.scatter([4, 8, 16, 32], SCR_values_Benes_list, c = 'k')\n",
    "plt.fill_between([4, 8, 16, 32], [k+q for k,q in zip(SCR_values_Benes_list,SCR_std_dev_Benes_list)], [k-q for k,q in zip(SCR_values_Benes_list,SCR_std_dev_Benes_list)],color='#888888',alpha=0.5, label = \"$+/- 3\\sigma $\")\n",
    "\n",
    "plt.legend(loc=\"best\")\n",
    "plt.xlabel(\"N Inputs/Outputs\")\n",
    "plt.ylabel(\"$S\\hat{C}R$\")\n",
    "plt.savefig('/Users/marouankouissi/Desktop/AS_graphs/mean_std_dev_B.png')"
   ]
  },
  {
   "cell_type": "markdown",
   "metadata": {},
   "source": [
    "<h2> DLN </h2>"
   ]
  },
  {
   "cell_type": "code",
   "execution_count": 124,
   "metadata": {},
   "outputs": [],
   "source": [
    "def variance_SCR_simu_DLN(N):\n",
    "    k = log2(N)\n",
    "    l_x = 10**(-0.1/10)\n",
    "    m_x = 10**(-42./10)\n",
    "    \n",
    "    Loss_X = l_x**((3/2)*N-k-2)\n",
    "    Xtalk_X = 3*((N/2)-1)*m_x\n",
    "    Xtalk_MZI = 0\n",
    "    \n",
    "    l = int((2*k)-1)\n",
    "    MZI_perf = random.sample(Xtalk_linear, l)\n",
    "    for i in range(0,l):\n",
    "        for j in range(0,l):\n",
    "            if j==i:\n",
    "                continue\n",
    "            Xtalk_MZI = Xtalk_MZI + (1/(2*((2*k)-1)))*MZI_perf[i]*MZI_perf[j]\n",
    "\n",
    "    for i in range(0,l):\n",
    "        Xtalk_MZI = Xtalk_MZI + (1/((2*k)-1))*MZI_perf[i]\n",
    "        \n",
    "    return Loss_X/(Xtalk_MZI+Xtalk_X)"
   ]
  },
  {
   "cell_type": "code",
   "execution_count": 125,
   "metadata": {},
   "outputs": [],
   "source": [
    "Var_SCR_list_DLN_ = []\n",
    "for k in [4, 8, 16, 32]:\n",
    "    times = 10000\n",
    "    SCR_values_simu = []\n",
    "    for i in range(1,times+1):\n",
    "        SCR_values_simu.append(variance_SCR_simu_DLN(k))\n",
    "    Var_SCR_list_DLN_.append(statistics.pvariance(SCR_values_simu))"
   ]
  },
  {
   "cell_type": "code",
   "execution_count": 126,
   "metadata": {},
   "outputs": [
    {
     "data": {
      "text/plain": [
       "[2681.3667092126566, 704.1642832773564, 150.93355104811005, 14.209941880762242]"
      ]
     },
     "execution_count": 126,
     "metadata": {},
     "output_type": "execute_result"
    }
   ],
   "source": [
    "Var_SCR_list_DLN_"
   ]
  },
  {
   "cell_type": "code",
   "execution_count": 127,
   "metadata": {},
   "outputs": [],
   "source": [
    "def variance_SCR_DLN(N):\n",
    "    l_x = 10**(-0.1/10)\n",
    "    m_x = 10**(-42./10)\n",
    "    #m = max(Xtalk_linear)\n",
    "    m = Xtalk_mean \n",
    "    k = log2(N)\n",
    "    \n",
    "    frac = (l_x**(2*((3/2)*N-k-2)))/((m+(k-1)*m*m+3*((N/2)-1)*m_x)**4)\n",
    "    factor = frac*((1+2*m*(k-1))**2)/((2*k)-1)\n",
    "    \n",
    "    return factor*Xtalk_var"
   ]
  },
  {
   "cell_type": "code",
   "execution_count": 128,
   "metadata": {},
   "outputs": [],
   "source": [
    "Var_SCR_list_DLN = []\n",
    "for k in [4, 8, 16, 32]:\n",
    "    Var_SCR_list_DLN.append(variance_SCR_DLN(k))"
   ]
  },
  {
   "cell_type": "code",
   "execution_count": 129,
   "metadata": {},
   "outputs": [
    {
     "data": {
      "text/plain": [
       "[1948.0909949773072, 666.8865333914689, 159.63196515664436, 16.465247099165467]"
      ]
     },
     "execution_count": 129,
     "metadata": {},
     "output_type": "execute_result"
    }
   ],
   "source": [
    "Var_SCR_list_DLN"
   ]
  },
  {
   "cell_type": "code",
   "execution_count": 154,
   "metadata": {},
   "outputs": [
    {
     "data": {
      "image/png": "[encoded data removed]",
      "text/plain": [
       "<Figure size 648x432 with 1 Axes>"
      ]
     },
     "metadata": {
      "needs_background": "light"
     },
     "output_type": "display_data"
    }
   ],
   "source": [
    "plt.figure(figsize=(9,6))\n",
    "plt.grid(True)\n",
    "plt.yscale(\"log\")\n",
    "plt.plot([4, 8, 16, 32], Var_SCR_list_DLN, '--' , c=\"k\", label = \"$\\hat{SCR}$ Variance\")\n",
    "plt.scatter([4, 8, 16, 32], Var_SCR_list_DLN, c=\"k\")\n",
    "plt.plot([4, 8, 16, 32], Var_SCR_list_DLN_, '--' , c=\"grey\", label = \"$\\hat{SCR}$ Variance simulation\")\n",
    "plt.scatter([4, 8, 16, 32], Var_SCR_list_DLN_, c=\"grey\")\n",
    "\n",
    "plt.xlabel(\"N Inputs/Outputs\")\n",
    "plt.ylabel(\"Variance values (Log scaele)\")\n",
    "plt.legend(loc='best')\n",
    "plt.savefig('/Users/marouankouissi/Desktop/AS_graphs/V_Simu_DLN.png')"
   ]
  },
  {
   "cell_type": "code",
   "execution_count": 131,
   "metadata": {},
   "outputs": [],
   "source": [
    "def SCR_DLN(N):\n",
    "    k = log2(N)\n",
    "    l_x = 10**(-0.1/10)\n",
    "    m_x = 10**(-42./10)\n",
    "    #m_mzi = 10**(-max(Xtalk)/10) \n",
    "    m_mzi = Xtalk_mean\n",
    "    \n",
    "    Loss_X = l_x**((3/2)*N-k-2)\n",
    "    Xtalk_MZI = m_mzi + (k-1)*m_mzi*m_mzi\n",
    "    Xtalk_X = 3*((N/2)-1)*m_x\n",
    "    \n",
    "    return Loss_X/(Xtalk_MZI+Xtalk_X)"
   ]
  },
  {
   "cell_type": "code",
   "execution_count": 132,
   "metadata": {},
   "outputs": [],
   "source": [
    "SCR_values_DLN_list = []\n",
    "for k in [4, 8, 16, 32]:\n",
    "    SCR_values_DLN_list.append(SCR_DLN(k))"
   ]
  },
  {
   "cell_type": "code",
   "execution_count": 133,
   "metadata": {},
   "outputs": [],
   "source": [
    "# standar deviation DLN\n",
    "SCR_std_dev_DLN_list = [3*math.sqrt(k) for k in Var_SCR_list_DLN]"
   ]
  },
  {
   "cell_type": "code",
   "execution_count": 155,
   "metadata": {},
   "outputs": [
    {
     "data": {
      "image/png": "[encoded data removed]",
      "text/plain": [
       "<Figure size 648x432 with 1 Axes>"
      ]
     },
     "metadata": {
      "needs_background": "light"
     },
     "output_type": "display_data"
    }
   ],
   "source": [
    "plt.figure(figsize = (9,6))\n",
    "plt.grid(True)\n",
    "#plt.yscale(\"log\")\n",
    "plt.plot([4, 8, 16, 32], SCR_values_DLN_list, '--', c = 'k', label = \"$\\hat{SCR}$ mean value\")\n",
    "plt.scatter([4, 8, 16, 32], SCR_values_DLN_list, c = 'k')\n",
    "plt.fill_between([4, 8, 16, 32], [k+q for k,q in zip(SCR_values_DLN_list,SCR_std_dev_DLN_list)], [k-q for k,q in zip(SCR_values_DLN_list,SCR_std_dev_DLN_list)],color='#888888',alpha=0.5, label = \"$+/- 3\\sigma $\")\n",
    "\n",
    "plt.legend(loc=\"best\")\n",
    "plt.xlabel(\"N Inputs/Outputs\")\n",
    "plt.ylabel(\"$S\\hat{C}R$\")\n",
    "plt.savefig('/Users/marouankouissi/Desktop/AS_graphs/mean_std_dev_DLN.png')"
   ]
  },
  {
   "cell_type": "markdown",
   "metadata": {},
   "source": [
    "<h2> S&S </h2>"
   ]
  },
  {
   "cell_type": "code",
   "execution_count": 138,
   "metadata": {},
   "outputs": [],
   "source": [
    "def variance_SCR_simu_SS(N):\n",
    "    k = log2(N)\n",
    "    l_x = 10**(-0.1/10)\n",
    "    m_x = 10**(-42./10)\n",
    "    \n",
    "    Loss_X = l_x**((N-1)**2)\n",
    "    Xtalk_X = (N-1)*m_x\n",
    "    Xtalk_MZI = 0\n",
    "    \n",
    "    l = int(2*k)\n",
    "    MZI_perf = random.sample(Xtalk_linear, l)\n",
    "    for i in range(0,l):\n",
    "        for j in range(0,l):\n",
    "            if j==i:\n",
    "                continue\n",
    "            Xtalk_MZI = Xtalk_MZI + (1/(2*((2*k)-1)))*MZI_perf[i]*MZI_perf[j]\n",
    "        \n",
    "    return Loss_X/(Xtalk_MZI+Xtalk_X)"
   ]
  },
  {
   "cell_type": "code",
   "execution_count": 139,
   "metadata": {},
   "outputs": [],
   "source": [
    "Var_SCR_list_SS_ = []\n",
    "for k in [4, 8, 16, 32]:\n",
    "    times = 10000\n",
    "    SCR_values_simu = []\n",
    "    for i in range(1,times+1):\n",
    "        SCR_values_simu.append(variance_SCR_simu_SS(k))\n",
    "    Var_SCR_list_SS_.append(statistics.pvariance(SCR_values_simu))"
   ]
  },
  {
   "cell_type": "code",
   "execution_count": 140,
   "metadata": {},
   "outputs": [
    {
     "data": {
      "text/plain": [
       "[38403.610973716175,\n",
       " 374.468101926086,\n",
       " 0.007860542687531882,\n",
       " 1.0788350912051892e-18]"
      ]
     },
     "execution_count": 140,
     "metadata": {},
     "output_type": "execute_result"
    }
   ],
   "source": [
    "Var_SCR_list_SS_"
   ]
  },
  {
   "cell_type": "code",
   "execution_count": 141,
   "metadata": {},
   "outputs": [],
   "source": [
    "def variance_SCR_SS(N):\n",
    "    l_x = 10**(-0.1/10)\n",
    "    m_x = 10**(-42./10)\n",
    "    #m = max(Xtalk_linear)\n",
    "    m = Xtalk_mean \n",
    "    k = log2(N)\n",
    "    \n",
    "    frac = (l_x**(2*((N-1)**2)))/((k*m*m+(N-1)*m_x)**4)\n",
    "    factor = frac*2*k*m*m\n",
    "    \n",
    "    return factor*Xtalk_var"
   ]
  },
  {
   "cell_type": "code",
   "execution_count": 142,
   "metadata": {},
   "outputs": [],
   "source": [
    "Var_SCR_list_SS = []\n",
    "for k in [4, 8, 16, 32]:\n",
    "    Var_SCR_list_SS.append(variance_SCR_SS(k))"
   ]
  },
  {
   "cell_type": "code",
   "execution_count": 143,
   "metadata": {},
   "outputs": [
    {
     "data": {
      "text/plain": [
       "[41576.35064833689,\n",
       " 418.3839500247853,\n",
       " 0.009394935520496969,\n",
       " 1.3680167072186181e-18]"
      ]
     },
     "execution_count": 143,
     "metadata": {},
     "output_type": "execute_result"
    }
   ],
   "source": [
    "Var_SCR_list_SS"
   ]
  },
  {
   "cell_type": "code",
   "execution_count": 156,
   "metadata": {},
   "outputs": [
    {
     "data": {
      "image/png": "[encoded data removed]",
      "text/plain": [
       "<Figure size 648x432 with 1 Axes>"
      ]
     },
     "metadata": {
      "needs_background": "light"
     },
     "output_type": "display_data"
    }
   ],
   "source": [
    "plt.figure(figsize=(9,6))\n",
    "plt.grid(True)\n",
    "plt.yscale(\"log\")\n",
    "plt.plot([4, 8, 16, 32], Var_SCR_list_SS, '--' , c=\"k\", label = \"$\\hat{SCR}$ Variance\")\n",
    "plt.scatter([4, 8, 16, 32], Var_SCR_list_SS, c=\"k\")\n",
    "plt.plot([4, 8, 16, 32], Var_SCR_list_SS_, '--' , c=\"grey\", label = \"$\\hat{SCR}$ Variance simulation\")\n",
    "plt.scatter([4, 8, 16, 32], Var_SCR_list_SS_, c=\"grey\")\n",
    "\n",
    "plt.xlabel(\"N Inputs/Outputs\")\n",
    "plt.ylabel(\"Variance values (Log scaele)\")\n",
    "plt.legend(loc='best')\n",
    "plt.savefig('/Users/marouankouissi/Desktop/AS_graphs/V_Simu_SS.png')"
   ]
  },
  {
   "cell_type": "code",
   "execution_count": 145,
   "metadata": {},
   "outputs": [],
   "source": [
    "def SCR_SS(N):\n",
    "    k = log2(N)\n",
    "    l_x = 10**(-0.1/10)\n",
    "    m_x = 10**(-42./10)\n",
    "    #m_mzi = 10**(-max(Xtalk)/10) \n",
    "    m_mzi = Xtalk_mean\n",
    "    \n",
    "    Loss_X = l_x**((N-1)**2)\n",
    "    Xtalk_MZI = k*m_mzi*m_mzi\n",
    "    Xtalk_X = (N-1)*m_x\n",
    "    \n",
    "    return Loss_X/(Xtalk_MZI+Xtalk_X)"
   ]
  },
  {
   "cell_type": "code",
   "execution_count": 146,
   "metadata": {},
   "outputs": [],
   "source": [
    "SCR_values_SS_list = []\n",
    "for k in [4, 8, 16, 32]:\n",
    "    SCR_values_SS_list.append(SCR_SS(k))"
   ]
  },
  {
   "cell_type": "code",
   "execution_count": 147,
   "metadata": {},
   "outputs": [],
   "source": [
    "# standar deviation SS\n",
    "SCR_std_dev_SS_list = [3*math.sqrt(k) for k in Var_SCR_list_SS]"
   ]
  },
  {
   "cell_type": "code",
   "execution_count": 157,
   "metadata": {},
   "outputs": [
    {
     "data": {
      "image/png": "[encoded data removed]",
      "text/plain": [
       "<Figure size 648x432 with 1 Axes>"
      ]
     },
     "metadata": {
      "needs_background": "light"
     },
     "output_type": "display_data"
    }
   ],
   "source": [
    "plt.figure(figsize = (9,6))\n",
    "plt.grid(True)\n",
    "#plt.yscale(\"log\")\n",
    "plt.plot([4, 8, 16, 32], SCR_values_SS_list, '--', c = 'k', label = \"$\\hat{SCR}$ mean value\")\n",
    "plt.scatter([4, 8, 16, 32], SCR_values_SS_list, c = 'k')\n",
    "plt.fill_between([4, 8, 16, 32], [k+q for k,q in zip(SCR_values_SS_list,SCR_std_dev_SS_list)], [k-q for k,q in zip(SCR_values_SS_list,SCR_std_dev_SS_list)],color='#888888',alpha=0.5, label = \"$+/- 3\\sigma $\")\n",
    "\n",
    "plt.legend(loc=\"best\")\n",
    "plt.xlabel(\"N Inputs/Outputs\")\n",
    "plt.ylabel(\"$S\\hat{C}R$\")\n",
    "plt.savefig('/Users/marouankouissi/Desktop/AS_graphs/mean_std_dev_SS.png')"
   ]
  },
  {
   "cell_type": "code",
   "execution_count": null,
   "metadata": {},
   "outputs": [],
   "source": []
  }
 ],
 "metadata": {
  "kernelspec": {
   "display_name": "Python 3",
   "language": "python",
   "name": "python3"
  },
  "language_info": {
   "codemirror_mode": {
    "name": "ipython",
    "version": 3
   },
   "file_extension": ".py",
   "mimetype": "text/x-python",
   "name": "python",
   "nbconvert_exporter": "python",
   "pygments_lexer": "ipython3",
   "version": "3.7.4"
  }
 },
 "nbformat": 4,
 "nbformat_minor": 4
}
